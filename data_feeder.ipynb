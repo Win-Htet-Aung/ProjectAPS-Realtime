{
 "cells": [
  {
   "cell_type": "code",
   "execution_count": 2,
   "metadata": {},
   "outputs": [],
   "source": [
    "import json\n",
    "import requests\n",
    "import websocket\n",
    "import time\n",
    "import random\n",
    "import datetime"
   ]
  },
  {
   "cell_type": "code",
   "execution_count": 3,
   "metadata": {},
   "outputs": [],
   "source": [
    "ws = websocket.WebSocket()"
   ]
  },
  {
   "cell_type": "code",
   "execution_count": 25,
   "metadata": {},
   "outputs": [],
   "source": [
    "ws.connect(\"ws://localhost:8000/ws/dataplotter/S4001/\")\n",
    "for i in range(10):\n",
    "    time.sleep(3)\n",
    "    now = datetime.datetime.now()\n",
    "    hour, minute = now.hour, now.minute\n",
    "    label = f\"{hour}:{minute}\"\n",
    "    tran = random.randint(10, 127) / 1000\n",
    "    vert = random.randint(100, 254) / 1000\n",
    "    long = random.randint(10, 127) / 1000\n",
    "    ws.send(json.dumps({'label':label, 'tran':tran, 'vert':vert, 'long':long}))"
   ]
  },
  {
   "cell_type": "code",
   "execution_count": null,
   "metadata": {},
   "outputs": [],
   "source": []
  }
 ],
 "metadata": {
  "kernelspec": {
   "display_name": "Python 3",
   "language": "python",
   "name": "python3"
  },
  "language_info": {
   "codemirror_mode": {
    "name": "ipython",
    "version": 3
   },
   "file_extension": ".py",
   "mimetype": "text/x-python",
   "name": "python",
   "nbconvert_exporter": "python",
   "pygments_lexer": "ipython3",
   "version": "3.8.6"
  }
 },
 "nbformat": 4,
 "nbformat_minor": 4
}
